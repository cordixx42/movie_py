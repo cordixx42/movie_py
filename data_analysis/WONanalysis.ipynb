{
 "cells": [
  {
   "cell_type": "markdown",
   "metadata": {},
   "source": [
    "# This notebook is for getting a general idea of what the WhatsOnNetflix data looks like. "
   ]
  },
  {
   "cell_type": "markdown",
   "metadata": {},
   "source": [
    "## Findings\n",
    "1. Data has inconsistencies but there does not appear to be enough of them to be a huge deal. \n",
    "    - There are no empty titles\n",
    "    - Languages occasionally are misspelled or the country of origin is used instead of a language. \n",
    "    - Language split is close to 50:50 English:Other. \n",
    "    - Languages with only 1 movie are often incorrect fields or values. EX: tt7866320\n",
    "    - Release year has a few years which are not real or are empty. Still is not common. \n",
    "    - Ratings are from across different country's rating systems. Would be best to group them with a mask into three or four categories. \n",
    "    - IMDb Score is either the IMDb Score or the Rotten Tomatoes Critic score. Multiply by 10 to account for this or pull in score from somewhere else for greater accuracy. \n",
    "2. Most movies are modern. None older than 1960, though some have poorly formatted dates. \n",
    "3. The top rated movies are not all Hollywood films. \n"
   ]
  },
  {
   "cell_type": "code",
   "execution_count": null,
   "metadata": {},
   "outputs": [],
   "source": [
    "import pandas as pd\n",
    "import matplotlib.pyplot as plt\n",
    "import seaborn as sns\n",
    "try:\n",
    "    df = pd.read_json('../data_collection/whatsOnNetflix_2082025.json')\n",
    "except FileNotFoundError as e:\n",
    "    print('Error: ',e)"
   ]
  },
  {
   "cell_type": "code",
   "execution_count": null,
   "metadata": {},
   "outputs": [],
   "source": [
    "print(df.head(10), df.tail(10))"
   ]
  },
  {
   "cell_type": "markdown",
   "metadata": {},
   "source": [
    "## There are a few things which I think are going to be valuable for us to look at. \n",
    "1. *Languages* - we need to know what languages are available and the distribution of languages across the dataset. \n",
    "2. *Maturity Ratings* - figuring out what the ratings are and distributions would be valuable. \n",
    "3. *Top Rated* - organize the dataset by IMDb Score. \n",
    "4. *Movies Released per year* - This will help us understand the dataset and may influence where we can search for more data when needed. \n"
   ]
  },
  {
   "cell_type": "code",
   "execution_count": null,
   "metadata": {},
   "outputs": [],
   "source": [
    "data = df.copy()"
   ]
  },
  {
   "cell_type": "code",
   "execution_count": null,
   "metadata": {},
   "outputs": [],
   "source": [
    "# Language distribution. \n",
    "\n",
    "# Explode the Language column\n",
    "data['Language'] = data['Language'].str.split(' / |, | ')\n",
    "data = data.explode('Language')\n",
    "\n",
    "# Filter out English\n",
    "non_english = data[data['Language'] != 'English']\n",
    "\n",
    "# Counts\n",
    "english_count = data[data['Language'] == 'English'].shape[0]\n",
    "non_english_count = data[data['Language'] != 'English'].shape[0]\n",
    "\n",
    "# Occurrences of non-english languages\n",
    "language_counts = non_english['Language'].value_counts()\n",
    "\n",
    "# 10 most popular languages excluding English\n",
    "top_10_languages = language_counts.head(10)\n",
    "\n",
    "# Least popular languages\n",
    "least_popular_languages = language_counts.tail(10)\n",
    "\n",
    "# 10 most popular languages\n",
    "plt.figure(figsize=(10, 5))\n",
    "top_10_languages.plot(kind='bar', title='Top 10 Most Popular Languages (Excluding English)')\n",
    "plt.xlabel('Language')\n",
    "plt.ylabel('Count')\n",
    "plt.show()\n",
    "\n",
    "# 10 least popular languages\n",
    "plt.figure(figsize=(10, 5))\n",
    "least_popular_languages.plot(kind='bar', title='Least Popular Languages (Excluding English)')\n",
    "plt.xlabel('Language')\n",
    "plt.ylabel('Count')\n",
    "plt.show()\n",
    "\n",
    "# Pie chart\n",
    "labels = ['English', 'Other Languages']\n",
    "sizes = [english_count, non_english_count]\n",
    "colors = ['#ff9999','#66b3ff']\n",
    "\n",
    "# Customize the labels to include both percentage and actual count\n",
    "def custom_autopct(pct):\n",
    "    total = sum(sizes)\n",
    "    absolute = int(pct * total / 100.0)\n",
    "    return f'{pct:.1f}%\\n({absolute:d})'\n",
    "\n",
    "plt.figure(figsize=(8, 8))\n",
    "plt.pie(sizes, labels=labels, colors=colors, autopct=custom_autopct, startangle=140)\n",
    "plt.title('Proportion of English Movies vs. Other Languages')\n",
    "plt.show()"
   ]
  },
  {
   "cell_type": "code",
   "execution_count": null,
   "metadata": {},
   "outputs": [],
   "source": [
    "# Occurrences of each language\n",
    "language_counts = data['Language'].value_counts()\n",
    "\n",
    "# Subset languages that have only one movie\n",
    "languages_with_one_movie = language_counts[language_counts == 1]\n",
    "count_of_languages_with_one_movie = languages_with_one_movie.shape[0]\n",
    "\n",
    "print(f\"Number of languages with only one movie: {count_of_languages_with_one_movie}\")\n",
    "print(languages_with_one_movie)\n"
   ]
  },
  {
   "cell_type": "code",
   "execution_count": null,
   "metadata": {},
   "outputs": [],
   "source": [
    "data = df.copy()\n",
    "\n",
    "# Convert IMDb Score to numeric values, replacing non-numeric data with -1\n",
    "def clean_imdb_score(score):\n",
    "    try:\n",
    "        # Get Numerator\n",
    "        if isinstance(score, str) and '/' in score:\n",
    "            return float(score.split('/')[0])\n",
    "        # Rotten Scores\n",
    "        elif isinstance(score, str) and score.replace('.', '', 1).isdigit():\n",
    "            numeric_score = float(score)\n",
    "            if numeric_score < 1:  \n",
    "                return numeric_score * 10  # Multiply by 10 to normalize\n",
    "            return numeric_score\n",
    "        return -1  # Return -1 for any invalid or missing data\n",
    "    except (AttributeError, ValueError): \n",
    "        return -1\n",
    "data['IMDb Score'] = data['IMDb Score'].apply(clean_imdb_score)\n",
    "\n",
    "# Clean the 'Release Year' column: replace anything that is not a valid year with 100\n",
    "data['Release Year'] = pd.to_numeric(data['Release Year'], errors='coerce') \n",
    "data['Release Year'] = data['Release Year'].fillna(100)  \n",
    "\n",
    "# Releases per year\n",
    "release_years = data['Release Year'].value_counts().sort_index()\n",
    "plt.figure(figsize=(10, 6))\n",
    "release_years.plot(kind='bar', color='blue', edgecolor='black')\n",
    "plt.title('Number of Releases Per Year')\n",
    "plt.xlabel('Year')\n",
    "plt.ylabel('Number of Releases')\n",
    "plt.show()\n",
    "\n",
    "# Releases per 5 year period\n",
    "data['Release Period'] = (data['Release Year'] // 5) * 5\n",
    "release_periods = data['Release Period'].value_counts().sort_index()\n",
    "plt.figure(figsize=(10, 6))\n",
    "release_periods.plot(kind='bar', color='orange', edgecolor='black')\n",
    "plt.title('Number of Releases Per 5 Year Period')\n",
    "plt.xlabel('5-Year Period')\n",
    "plt.ylabel('Number of Releases')\n",
    "plt.show()\n",
    "\n",
    "# Releases per decade\n",
    "data['Decade'] = (data['Release Year'] // 10) * 10\n",
    "release_decades = data['Decade'].value_counts().sort_index()\n",
    "plt.figure(figsize=(10, 6))\n",
    "release_decades.plot(kind='bar', color='green', edgecolor='black')\n",
    "plt.title('Number of Releases Per Decade')\n",
    "plt.xlabel('Decade')\n",
    "plt.ylabel('Number of Releases')\n",
    "plt.show()\n"
   ]
  },
  {
   "cell_type": "code",
   "execution_count": null,
   "metadata": {},
   "outputs": [],
   "source": [
    "#  Display top 10 IMDB Scores\n",
    "# Filter out rows where IMDb Score is -1\n",
    "df_valid_score = data[data['IMDb Score'] > 0]\n",
    "df_sorted_by_rating = df_valid_score.sort_values(by='IMDb Score', ascending=False)\n",
    "top_10_rows = df_sorted_by_rating.head(10)\n",
    "print(\"Top 10 Rows Sorted by Rating:\")\n",
    "print(top_10_rows)"
   ]
  },
  {
   "cell_type": "code",
   "execution_count": null,
   "metadata": {},
   "outputs": [],
   "source": [
    "\n",
    "# lowest imdb scores\n",
    "lowest_10_rows = df_sorted_by_rating.tail(10)\n",
    "print(\"Lowest 10 Rows Sorted by Rating (with IMDb Score > 0):\")\n",
    "print(lowest_10_rows)"
   ]
  }
 ],
 "metadata": {
  "kernelspec": {
   "display_name": "base",
   "language": "python",
   "name": "python3"
  },
  "language_info": {
   "codemirror_mode": {
    "name": "ipython",
    "version": 3
   },
   "file_extension": ".py",
   "mimetype": "text/x-python",
   "name": "python",
   "nbconvert_exporter": "python",
   "pygments_lexer": "ipython3",
   "version": "3.12.7"
  }
 },
 "nbformat": 4,
 "nbformat_minor": 2
}
