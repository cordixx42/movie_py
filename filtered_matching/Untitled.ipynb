{
 "cells": [
  {
   "cell_type": "code",
   "execution_count": null,
   "id": "76c7a0c8-0d05-43f6-a129-a2b12af8a69b",
   "metadata": {},
   "outputs": [
    {
     "name": "stderr",
     "output_type": "stream",
     "text": [
      "/Users/hannacui/Desktop/movie_py/venv/lib/python3.13/site-packages/tqdm/auto.py:21: TqdmWarning: IProgress not found. Please update jupyter and ipywidgets. See https://ipywidgets.readthedocs.io/en/stable/user_install.html\n",
      "  from .autonotebook import tqdm as notebook_tqdm\n"
     ]
    },
    {
     "name": "stdout",
     "output_type": "stream",
     "text": [
      "{'Error': 'Search Failed'}\n",
      "{'Error': 'Failed to get movie details'}\n"
     ]
    }
   ],
   "source": [
    "#Import Required Packages#\n",
    "import pandas as pd\n",
    "import numpy as np\n",
    "import math as m\n",
    "import requests\n",
    "import json\n",
    "from sentence_transformers import SentenceTransformer\n",
    "from tmdb_search import TMDB_Metadata \n",
    "\n",
    "#Import Required Data#\n",
    "#dfNtflx = pd.read_json('../data_collection/netflix_data_analysis.json')\n",
    "dfNtflx = pd.read_json('../data_collection/netflix_tmdb_match.json')\n",
    "dfALL = pd.read_json('../data_collection/all_movie_data_analysis.json')\n",
    "genreEmbeddings=pd.read_csv('genreEmbeddings.csv',index_col=0)\n",
    "overviewEmbeddings=pd.read_csv('overviewEmbeddings.csv',index_col=0)\n",
    "with open('originalLanguages.json', 'r') as f: originalLanguages = json.load(f)\n",
    "\n",
    "#Initialize BERT model#\n",
    "model = SentenceTransformer('paraphrase-MiniLM-L6-v2')\n",
    "\n",
    "def likeXbutY(tmdbId,tmdb_api_key,originalLanguage=None,alpha=0.6,N=None,dfNtflx=dfNtflx,dfALL=dfALL,genreEmbeddings=genreEmbeddings,overviewEmbeddings=overviewEmbeddings,originalLanguages=originalLanguages):\n",
    "    #Validate tmdbId#\n",
    "    try: tmbdid = int(tmdbId)\n",
    "    except: raise TypeError('timbdId not coercible to type INT')\n",
    "    if tmbdid in sorted(dfALL.tmdbId[dfALL.tmdbId.apply(lambda x: not m.isnan(x))].apply(int)):\n",
    "        try: tmdbMd = TMDB_Metadata(tmdb_api_key, tmbdid)\n",
    "        except: raise tmdbIdError('timbdAPI call not successful')\n",
    "    else:\n",
    "        raise KeyError('timbdId is not a recognized id value')\n",
    "    #Validate originalLanguage#\n",
    "    if (originalLanguage == '') or (originalLanguage is None):\n",
    "        language = None\n",
    "    else:\n",
    "        try: language = str(originalLanguage)\n",
    "        except: raise TypeError('originalLanguage not coercible to type STR')\n",
    "        if language in originalLanguages.keys():\n",
    "            language = language\n",
    "        else:\n",
    "            raise KeyError('originalLanguage is not a recognized id value')\n",
    "    #Validate alpha#\n",
    "    try: alpha = float(alpha)\n",
    "    except: raise TypeError('alpha not coercible to type FLOAT')\n",
    "    if 0.0 <= alpha <= 1.0 :\n",
    "        alpha = alpha\n",
    "    else:\n",
    "        raise ValueError('alpha is out of bounds')\n",
    "    #Validate N#\n",
    "    if N is None:\n",
    "        N = None\n",
    "    else:\n",
    "        try: N = int(N)\n",
    "        except: raise TypeError('N not coercible to type INT')\n",
    "        if N > 0 :\n",
    "            N = N\n",
    "        else:\n",
    "            raise ValueError('N is out of bounds')\n",
    "    #Filter on language#\n",
    "    if language is None:\n",
    "        genreEmbeddings_filtered=genreEmbeddings\n",
    "        overviewEmbeddings_filtered=overviewEmbeddings\n",
    "    else:\n",
    "        filterIds=[int(id) for id in originalLanguages[language]]\n",
    "        filteredIndex=[i in filterIds for i in genreEmbeddings.index.to_list()]\n",
    "        genreEmbeddings_filtered=genreEmbeddings.loc[filteredIndex]\n",
    "        overviewEmbeddings_filtered=overviewEmbeddings.loc[filteredIndex]\n",
    "    #Find best matches#\n",
    "    embeddingGenre = model.encode(f'This film has the following genres: {\" \".join(tmdbMd['Genres'])}')\n",
    "    embeddingOverview = model.encode(tmdbMd['Overview'])\n",
    "    matchedFilms = genreEmbeddings_filtered.index[np.argsort(alpha*(np.dot(genreEmbeddings_filtered,embeddingGenre)/(np.linalg.norm(genreEmbeddings_filtered, axis=1)*np.linalg.norm(embeddingGenre)))+(1-alpha)*(np.dot(overviewEmbeddings_filtered,embeddingOverview)/(np.linalg.norm(overviewEmbeddings_filtered, axis=1)*np.linalg.norm(embeddingOverview))))[::-1]].to_list()\n",
    "    #Return ordered results#\n",
    "    if N is None: return matchedFilms\n",
    "    else: return matchedFilms[0:N]"
   ]
  },
  {
   "cell_type": "code",
   "execution_count": null,
   "id": "e7ec68ea-7ec9-42e7-b6d1-2e3d3d6a567e",
   "metadata": {},
   "outputs": [],
   "source": [
    "model = SentenceTransformer('paraphrase-MiniLM-L6-v2')\n",
    "genreEmbeddings = np.vstack([model.encode(f'This film has the following genres: {\" \".join(dfNtflx.loc[row,'genres'])}') for row in dfNtflx.index])\n",
    "dfNtflxInex = [dfNtflx.loc[row,'tmdbId'] for row in dfNtflx.index]\n",
    "originalLanguages = {}\n",
    "for i in dfNtflx.index:\n",
    "    if dfNtflx.loc[i,'originalLanguage'] in originalLanguages:\n",
    "        originalLanguages[dfNtflx.loc[i,'originalLanguage']] = originalLanguages[dfNtflx.loc[i,'originalLanguage']] + [str(dfNtflx.loc[i,'tmdbId'])]\n",
    "    else: originalLanguages[dfNtflx.loc[i,'originalLanguage']] = [str(dfNtflx.loc[i,'tmdbId'])]\n",
    "with open('originalLanguages.json', 'w') as file:\n",
    "        json.dump(originalLanguages, file, indent=4)\n",
    "pd.DataFrame(genreEmbeddings,index=dfNtflxInex).to_csv('genreEmbeddings.csv')\n",
    "pd.DataFrame([row for row in dfNtflx.overviewEmbedding],index=dfNtflxInex).to_csv('overviewEmbeddings.csv')"
   ]
  },
  {
   "cell_type": "code",
   "execution_count": 913,
   "id": "23cd974a-0dbf-4482-a8ce-b4654098a944",
   "metadata": {},
   "outputs": [],
   "source": [
    "#Import Required Packages#\n",
    "import pandas as pd\n",
    "import numpy as np\n",
    "import math as m\n",
    "import requests\n",
    "import json\n",
    "from sentence_transformers import SentenceTransformer\n",
    "from data_collection.tmdb_search import TMDB_Metadata \n",
    "\n",
    "#Import Required Data#\n",
    "dfNtflx = pd.read_json('data_collection/netflix_data_analysis.json')\n",
    "dfALL = pd.read_json('data_collection/all_movie_data_analysis.json')\n",
    "genreEmbeddings=pd.read_csv('genreEmbeddings.csv',index_col=0)\n",
    "overviewEmbeddings=pd.read_csv('overviewEmbeddings.csv',index_col=0)\n",
    "with open('originalLanguages.json', 'r') as f: originalLanguages = json.load(f)\n",
    "\n",
    "\n",
    "#Initialize BERT model#\n",
    "model = SentenceTransformer('paraphrase-MiniLM-L6-v2')"
   ]
  },
  {
   "cell_type": "code",
   "execution_count": 1011,
   "id": "31eef186-f877-49b4-9cc7-e80cafcdf6e8",
   "metadata": {},
   "outputs": [],
   "source": [
    "originalLanguage = ''\n",
    "if (originalLanguage == '') or (originalLanguage is None):\n",
    "    language = None\n",
    "else:\n",
    "    try: language = str(originalLanguage)\n",
    "    except: raise TypeError('originalLanguage not coercible to type STR')\n",
    "    if language in originalLanguages.keys():\n",
    "        language = language\n",
    "    else:\n",
    "        raise KeyError('originalLanguage is not a recognized id value')"
   ]
  },
  {
   "cell_type": "code",
   "execution_count": 1013,
   "id": "4674968e-fab1-4844-af8f-955074988520",
   "metadata": {},
   "outputs": [],
   "source": [
    "tmdbId = 862\n",
    "try: tmbdid = int(tmdbId)\n",
    "except: raise TypeError('timbdId not coercible to type INT')\n",
    "if tmbdid in sorted(dfALL.tmdbId[dfALL.tmdbId.apply(lambda x: not m.isnan(x))].apply(int)):\n",
    "    tmdb_api_key = '<insert key here>'\n",
    "    try: tmdbMd = TMDB_Metadata(tmdb_api_key, tmbdid)\n",
    "    except: raise tmdbIdError('timbdAPI call not successful')\n",
    "else:\n",
    "    raise KeyError('timbdId is not a recognized id value')"
   ]
  },
  {
   "cell_type": "code",
   "execution_count": 1015,
   "id": "975e0b2e-ac18-4f85-8eee-f03a0bd6ba0c",
   "metadata": {},
   "outputs": [],
   "source": [
    "alpha = 0.6\n",
    "try: alpha = float(alpha)\n",
    "except: raise TypeError('alpha not coercible to type FLOAT')\n",
    "if 0.0 <= alpha <= 1.0 :\n",
    "    alpha = alpha\n",
    "else:\n",
    "    raise ValueError('alpha is out of bounds')"
   ]
  },
  {
   "cell_type": "code",
   "execution_count": 1049,
   "id": "7c564a59-b75e-4f9f-ac08-e4d5b8855efc",
   "metadata": {},
   "outputs": [],
   "source": [
    "N = None\n",
    "if N is None:\n",
    "    N = None\n",
    "else:\n",
    "    try: N = int(N)\n",
    "    except: raise TypeError('N not coercible to type INT')\n",
    "    if N > 0 :\n",
    "        N = N\n",
    "    else:\n",
    "        raise ValueError('N is out of bounds')"
   ]
  },
  {
   "cell_type": "code",
   "execution_count": 1021,
   "id": "c3667d53-3637-4ad7-b585-f62116347eb5",
   "metadata": {},
   "outputs": [],
   "source": [
    "if language is None:\n",
    "    genreEmbeddings_filtered=genreEmbeddings\n",
    "    overviewEmbeddings_filtered=overviewEmbeddings\n",
    "else:\n",
    "    filterIds=[int(id) for id in originalLanguages[language]]\n",
    "    filteredIndex=[i in filterIds for i in genreEmbeddings.index.to_list()]\n",
    "    genreEmbeddings_filtered=genreEmbeddings.loc[filteredIndex]\n",
    "    overviewEmbeddings_filtered=overviewEmbeddings.loc[filteredIndex]"
   ]
  },
  {
   "cell_type": "code",
   "execution_count": 1023,
   "id": "a2f35779-3843-41e2-897d-d71e12601415",
   "metadata": {},
   "outputs": [],
   "source": [
    "embeddingGenre = model.encode(f'This film has the following genres: {\" \".join(tmdbMd['Genres'])}')\n",
    "embeddingOverview = model.encode(tmdbMd['Overview'])\n",
    "matchedFilms = genreEmbeddings_filtered.index[np.argsort(alpha*(np.dot(genreEmbeddings_filtered,embeddingGenre)/(np.linalg.norm(genreEmbeddings_filtered, axis=1)*np.linalg.norm(embeddingGenre)))+(1-alpha)*(np.dot(overviewEmbeddings_filtered,embeddingOverview)/(np.linalg.norm(overviewEmbeddings_filtered, axis=1)*np.linalg.norm(embeddingOverview))))[::-1]].to_list()"
   ]
  },
  {
   "cell_type": "code",
   "execution_count": 1051,
   "id": "55b503d3-982c-43f7-857b-151e4836cf67",
   "metadata": {},
   "outputs": [
    {
     "name": "stdout",
     "output_type": "stream",
     "text": [
      "[82703, 638134, 328111]\n"
     ]
    }
   ],
   "source": [
    "if N is None: print( matchedFilms )\n",
    "else: print( matchedFilms[0:N] )"
   ]
  }
 ],
 "metadata": {
  "kernelspec": {
   "display_name": "venv",
   "language": "python",
   "name": "python3"
  },
  "language_info": {
   "codemirror_mode": {
    "name": "ipython",
    "version": 3
   },
   "file_extension": ".py",
   "mimetype": "text/x-python",
   "name": "python",
   "nbconvert_exporter": "python",
   "pygments_lexer": "ipython3",
   "version": "3.13.2"
  }
 },
 "nbformat": 4,
 "nbformat_minor": 5
}
